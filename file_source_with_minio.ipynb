{
 "cells": [
  {
   "cell_type": "code",
   "execution_count": 8,
   "id": "21426097",
   "metadata": {},
   "outputs": [
    {
     "name": "stdout",
     "output_type": "stream",
     "text": [
      "Requirement already satisfied: minio in c:\\users\\90545\\appdata\\local\\programs\\python\\python311\\lib\\site-packages (7.1.17)Note: you may need to restart the kernel to use updated packages.\n"
     ]
    },
    {
     "name": "stderr",
     "output_type": "stream",
     "text": [
      "\n",
      "[notice] A new release of pip available: 22.3.1 -> 23.3.1\n",
      "[notice] To update, run: C:\\Users\\90545\\AppData\\Local\\Programs\\Python\\Python311\\python.exe -m pip install --upgrade pip\n"
     ]
    },
    {
     "name": "stdout",
     "output_type": "stream",
     "text": [
      "\n",
      "Requirement already satisfied: certifi in c:\\users\\90545\\appdata\\local\\programs\\python\\python311\\lib\\site-packages (from minio) (2023.7.22)\n",
      "Requirement already satisfied: urllib3 in c:\\users\\90545\\appdata\\local\\programs\\python\\python311\\lib\\site-packages (from minio) (2.0.7)\n"
     ]
    }
   ],
   "source": [
    "pip install minio"
   ]
  },
  {
   "cell_type": "code",
   "execution_count": 4,
   "id": "c59db649",
   "metadata": {},
   "outputs": [
    {
     "name": "stdout",
     "output_type": "stream",
     "text": [
      "Requirement already satisfied: pulsar-client in c:\\users\\90545\\appdata\\local\\programs\\python\\python311\\lib\\site-packages (3.3.0)\n",
      "Requirement already satisfied: minio in c:\\users\\90545\\appdata\\local\\programs\\python\\python311\\lib\\site-packages (7.1.17)\n",
      "Requirement already satisfied: certifi in c:\\users\\90545\\appdata\\local\\programs\\python\\python311\\lib\\site-packages (from pulsar-client) (2023.7.22)\n",
      "Requirement already satisfied: urllib3 in c:\\users\\90545\\appdata\\local\\programs\\python\\python311\\lib\\site-packages (from minio) (2.0.7)\n",
      "Note: you may need to restart the kernel to use updated packages.\n"
     ]
    },
    {
     "name": "stderr",
     "output_type": "stream",
     "text": [
      "\n",
      "[notice] A new release of pip available: 22.3.1 -> 23.3.1\n",
      "[notice] To update, run: C:\\Users\\90545\\AppData\\Local\\Programs\\Python\\Python311\\python.exe -m pip install --upgrade pip\n"
     ]
    }
   ],
   "source": [
    "pip install pulsar-client minio"
   ]
  },
  {
   "cell_type": "code",
   "execution_count": 4,
   "id": "69611b40",
   "metadata": {},
   "outputs": [],
   "source": [
    "from minio import Minio\n",
    "from minio.error import S3Error\n",
    "\n",
    "# Initialize Minio client with the complete endpoint URL\n",
    "minio_client = Minio(\n",
    "    \"127.0.0.1:9000\",  # Include the IP address and port in the URL\n",
    "    access_key=\"5QXDQgNpRpaQGoZnIqTO\",\n",
    "    secret_key=\"6ciZe6CEapuhXloljqY8CtutN1Y1gd6zwRfscOKm\",\n",
    "    secure=False  # You can set it to True if you use HTTPS\n",
    ")"
   ]
  },
  {
   "cell_type": "code",
   "execution_count": 5,
   "id": "bf3b3c94",
   "metadata": {},
   "outputs": [
    {
     "name": "stdout",
     "output_type": "stream",
     "text": [
      "Bucket 'assignment1' already exists\n"
     ]
    }
   ],
   "source": [
    "found = minio_client.bucket_exists(\"assignment1\")\n",
    "if not found:\n",
    "    minio_client.make_bucket(\"assignment1\")\n",
    "else:\n",
    "    print(\"Bucket 'assignment1' already exists\")"
   ]
  },
  {
   "cell_type": "code",
   "execution_count": 7,
   "id": "c9d7e34a",
   "metadata": {},
   "outputs": [
    {
     "data": {
      "text/plain": [
       "<minio.helpers.ObjectWriteResult at 0x29922c40a90>"
      ]
     },
     "execution_count": 7,
     "metadata": {},
     "output_type": "execute_result"
    }
   ],
   "source": [
    "minio_client.fput_object(\"assignment1\", \"file_source.csv\", \"C:/Users/90545/Documents/Data engineering/Assignment 1/file_source.csv\")"
   ]
  }
 ],
 "metadata": {
  "kernelspec": {
   "display_name": "Python 3 (ipykernel)",
   "language": "python",
   "name": "python3"
  },
  "language_info": {
   "codemirror_mode": {
    "name": "ipython",
    "version": 3
   },
   "file_extension": ".py",
   "mimetype": "text/x-python",
   "name": "python",
   "nbconvert_exporter": "python",
   "pygments_lexer": "ipython3",
   "version": "3.11.2"
  }
 },
 "nbformat": 4,
 "nbformat_minor": 5
}
