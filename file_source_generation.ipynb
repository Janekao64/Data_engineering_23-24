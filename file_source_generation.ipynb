{
 "cells": [
  {
   "cell_type": "code",
   "execution_count": 2,
   "id": "e62e3691",
   "metadata": {},
   "outputs": [
    {
     "name": "stdout",
     "output_type": "stream",
     "text": [
      "                   Timestamp UserID               IP      Page  Page_Error  \\\n",
      "0 2023-10-25 14:21:12.770044   0960  129.228.224.105      Blog           0   \n",
      "1 2023-10-25 14:07:12.770044   0623    60.190.22.222      Home           0   \n",
      "2 2023-10-25 14:01:12.770044   0188   113.81.148.231      Home           0   \n",
      "3 2023-10-25 13:59:12.770044   0295   175.236.26.220   Contact           0   \n",
      "4 2023-10-25 14:41:12.770044   1959   30.118.224.200  Services           0   \n",
      "\n",
      "   Age  Gender  \n",
      "0   56  Female  \n",
      "1   36    Male  \n",
      "2   25    Male  \n",
      "3   46    Male  \n",
      "4   50    Male  \n"
     ]
    }
   ],
   "source": [
    "# GENERATE RANDOM DATASET\n",
    "\n",
    "import pandas as pd\n",
    "import numpy as np\n",
    "import random\n",
    "from datetime import datetime, timedelta\n",
    "\n",
    "np.random.seed(0)\n",
    "\n",
    "n = 10000  \n",
    "max_users = 2000  \n",
    "pages = ['Home', 'Products', 'About', 'Contact', 'Blog', 'Services']\n",
    "\n",
    "def generate_random_ip():\n",
    "    return f\"{random.randint(0, 255)}.{random.randint(0, 255)}.{random.randint(0, 255)}.{random.randint(0, 255)}\"\n",
    "\n",
    "def generate_page_error():\n",
    "    return 1 if random.random() < 0.05 else 0\n",
    "\n",
    "def generate_age():\n",
    "    return random.randint(18, 70)\n",
    "\n",
    "def generate_gender():\n",
    "    return random.choice(['Male', 'Female'])\n",
    "\n",
    "data = {\n",
    "    'Timestamp': [datetime.now() - timedelta(minutes=random.randint(1, 60)) for _ in range(n)],\n",
    "    'UserID': [str(random.randint(1, max_users)).zfill(4) for _ in range(n)],\n",
    "    'IP': [generate_random_ip() for _ in range(n)],\n",
    "    'Page': [random.choice(pages) for _ in range(n)],\n",
    "    'Page_Error': [generate_page_error() for _ in range(n)],\n",
    "    'Age': [generate_age() for _ in range(n)],\n",
    "    'Gender': [generate_gender() for _ in range(n)],\n",
    "}\n",
    "\n",
    "clickstream_df = pd.DataFrame(data)\n",
    "\n",
    "print(clickstream_df.head())"
   ]
  },
  {
   "cell_type": "code",
   "execution_count": 3,
   "id": "056674e7",
   "metadata": {},
   "outputs": [],
   "source": [
    "# CREATE THE CSV FILE\n",
    "\n",
    "clickstream_df.to_csv('C:/Users/90545/Documents/Data engineering/Assignment 1/file_source.csv') "
   ]
  }
 ],
 "metadata": {
  "kernelspec": {
   "display_name": "Python 3 (ipykernel)",
   "language": "python",
   "name": "python3"
  },
  "language_info": {
   "codemirror_mode": {
    "name": "ipython",
    "version": 3
   },
   "file_extension": ".py",
   "mimetype": "text/x-python",
   "name": "python",
   "nbconvert_exporter": "python",
   "pygments_lexer": "ipython3",
   "version": "3.11.2"
  }
 },
 "nbformat": 4,
 "nbformat_minor": 5
}
