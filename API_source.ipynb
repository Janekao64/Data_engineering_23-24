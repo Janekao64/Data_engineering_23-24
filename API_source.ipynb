{
 "cells": [
  {
   "cell_type": "code",
   "execution_count": null,
   "id": "668f4508",
   "metadata": {},
   "outputs": [],
   "source": [
    "from fastapi import FastAPI\n",
    "import random\n",
    "from datetime import datetime, timedelta\n",
    "import pandas as pd\n",
    "import numpy as np\n",
    "\n",
    "app = FastAPI()\n",
    "\n",
    "np.random.seed(0)\n",
    "n = 1000  \n",
    "max_users = 200  \n",
    "pages = ['Home', 'Products', 'About', 'Contact', 'Blog', 'Services']\n",
    "\n",
    "def generate_random_ip():\n",
    "    return f\"{random.randint(0, 255)}.{random.randint(0, 255)}.{random.randint(0, 255)}.{random.randint(0, 255)}\"\n",
    "\n",
    "def generate_page_error():\n",
    "    return 1 if random.random() < 0.05 else 0\n",
    "\n",
    "def generate_age():\n",
    "    return random.randint(18, 70)\n",
    "\n",
    "def generate_gender():\n",
    "    return random.choice(['Male', 'Female'])\n",
    "\n",
    "data = {\n",
    "    'Timestamp': [datetime.now() - timedelta(minutes=random.randint(1, 60)) for _ in range(n)],\n",
    "    'UserID': [str(random.randint(1, max_users)).zfill(4) for _ in range(n)],\n",
    "    'IP': [generate_random_ip() for _ in range(n)],\n",
    "    'Page': [random.choice(pages) for _ in range(n)],\n",
    "    'Page_Error': [generate_page_error() for _ in range(n)],\n",
    "    'Age': [generate_age() for _ in range(n)],\n",
    "    'Gender': [generate_gender() for _ in range(n)],\n",
    "}\n",
    "\n",
    "@app.get(\"/generate_click_records\")\n",
    "async def generate_click_records():\n",
    "    return data"
   ]
  }
 ],
 "metadata": {
  "kernelspec": {
   "display_name": "Python 3 (ipykernel)",
   "language": "python",
   "name": "python3"
  },
  "language_info": {
   "codemirror_mode": {
    "name": "ipython",
    "version": 3
   },
   "file_extension": ".py",
   "mimetype": "text/x-python",
   "name": "python",
   "nbconvert_exporter": "python",
   "pygments_lexer": "ipython3",
   "version": "3.11.2"
  }
 },
 "nbformat": 4,
 "nbformat_minor": 5
}
